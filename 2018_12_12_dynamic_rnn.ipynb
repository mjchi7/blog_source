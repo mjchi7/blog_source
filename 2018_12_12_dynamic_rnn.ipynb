{
  "nbformat": 4,
  "nbformat_minor": 0,
  "metadata": {
    "colab": {
      "name": "2018_12_12_dynamic_rnn.ipynb",
      "version": "0.3.2",
      "provenance": [],
      "collapsed_sections": [],
      "include_colab_link": true
    },
    "kernelspec": {
      "name": "python3",
      "display_name": "Python 3"
    }
  },
  "cells": [
    {
      "cell_type": "markdown",
      "metadata": {
        "id": "view-in-github",
        "colab_type": "text"
      },
      "source": [
        "<a href=\"https://colab.research.google.com/github/mjchi7/blog_source/blob/seq2seq_p1/2018_12_12_dynamic_rnn.ipynb\" target=\"_parent\"><img src=\"https://colab.research.google.com/assets/colab-badge.svg\" alt=\"Open In Colab\"/></a>"
      ]
    },
    {
      "metadata": {
        "id": "5qChNyk8XTK9",
        "colab_type": "text"
      },
      "cell_type": "markdown",
      "source": [
        "# What's `tf.nn.dynamic_rnn`, anyway?\n",
        "\n",
        "This document is based largely on the excellent [source](http://www.wildml.com/2016/08/rnns-in-tensorflow-a-practical-guide-and-undocumented-features/) where it documents a lot of important tips and tricks. The problem I find is that it lacks a lengthy discussion of `tf.nn.dynamic_rnn`, and how to interpret its outputs, which is what this document hope to achieve.\n",
        "\n",
        "## Recurrent Neural Network (RNN)\n",
        "Recurrent Neural Network (RNN) is a class of neural network that excels at data that exhibit certain temporal pattern (such as sentences, audio signal, time series data, and etc.). The main idea behind RNN is that, say we have a sequence of data as such:\n",
        "```python\n",
        "data = [\"Some\", \"random\", \"data\", \".\"]\n",
        "```\n",
        "The data can be viewed in terms of `time_steps`, where the element `\"Some\"` can be refer to *input at time step 1*, $x_{t=1}$, `\"random\"` as $x_{t=2}$, `\"data\"` as $x_{t=3}$, and `\".\"` as $x_{t=4}$.\n",
        "\n",
        "![figure-1](source\\2018_12_12_dynamic_rnn\\diag1_rnn_normal.png)  \n",
        "Figure 1: Basic RNN Operation\n",
        "\n",
        "\n",
        "The RNN will take as input the first datum `\"Some\"`, pass it into the network, producing an output $y_{t=1}$ and hidden state representation $h_{t=2}$ using a set of weight $W_{rnn}$ and bias $b_{rnn}$. For the second data point `\"random\"`, the network will again use back the **same set of weight and bias, $W_{rnn}$ and $b_{rnn}$** to produce an output $y_{t=2}$ and hidden state representation $h_{t=2}$. This will go on until the hidden state and output for ${t=3}$ and $t=4$ are computed. If reader is interested to understand more on RNN, here is a very good [resource](http://www.wildml.com/2015/09/recurrent-neural-networks-tutorial-part-1-introduction-to-rnns/).\n",
        "\n",
        "\n",
        "## Let's implement it\n",
        "The way to implement it, intuitively, is to conduct a for loop for how many time steps there is, in each time step we pass in the previous hidden states $h_{t-1}$ and current input $x_t$\n",
        "\n",
        "```python\n",
        "h_t = np.zeros(0)\n",
        "for step in timestep:\n",
        "\th_t_prev = h_t\n",
        "\th_t = sigmoid(W_x * x_t + W_h * h_t_prev)\n",
        "```\n",
        "*Note: The equation aren't exactly complete in the sense that a bias term is purposely left out for the sake of clarity. The important thing to note here is how we are re-using the same weights when we go through the sequence*\n",
        "\n",
        "This implementation is known as [**static unrolled rnn**](https://www.tensorflow.org/api_docs/python/tf/nn/static_rnn). It forces user to define how many time steps are there through the variable `timestep` prior to building the computation graph, which cause the following disadvantage:\n",
        "\n",
        "####  Computation resources wastage \n",
        "Imagine if your training data contains 2 sentences of length 10 and 6. For example:\n",
        "\n",
        "> **Sentence 1**: \"I love pineapple on pizza regardless of what people say\".  \n",
        "> **Sentence 2**: \"But pineapple on pizza is disgusting\".\n",
        "\n",
        "In order  to make the computation works, you will need to zero pad the second sentence of length 6 so that it has length of 10, as such:\n",
        "\n",
        "> **Sentence 2**: \"But pineapple on pizza is disgusting **<pad\\> <pad\\> <pad\\> <pad\\>**\"\n",
        "\n",
        "During forward propagation, since the computation graph have been defined strictly to loop for 10 times (to accommodate the longest sentence - in this case sentence 1), the **<pad\\>** value in the second sentence will also undergo the same computation, which we know isn't necessary. In other word, the ideal case is to stop computing after the 6th word. \n",
        "\n",
        "### `tf.nn.dynamic_rnn` to the rescue!\n",
        "*tf.nn.dynamic_rnn* is a way to counter the concern raised above: it will not compute the <pad\\> value of sentence and just append vector of \"0\" so the matrix size agree.\n",
        "In order to do that, tf.nn.dynamic_rnn requires an additional input: `sequence_length`\n",
        "\n",
        "#### `sequence_length`\n",
        "This parameter is an input of type `tf.int32` and of shape `[batch_size]`. The value in this parameter should tell the function *\"how long is each sentence in this batch?\"*. Continuing with our example above, for the two sentences, their respective `sequence_length` parameters should be \n",
        "```python\n",
        "sequence_length = [10, 6]\n",
        "```\n",
        "With this parameter, the function `tf.nn.dynamic_rnn` will know for current sentence, when should it stop computing the hidden states and return the computed states, instead of continuing with the calculation for \\<pad> value.\n",
        "\n",
        "Keen reader by now should be wondering: What about the outputs of hidden states for the <pad\\> value? The reason this question might pop up is because you understand that in some advance implementation, certain mechanism (such as Attention) requires all the hidden states value from all the time steps and the shape should agree regardless of the batch they belong to. In another words, taking our first sentence as example, in the end of the RNN forward propagation, we should have a hidden states Tensor coming out from all the time steps\n",
        "\n",
        "**`[sentence_length, hidden_state_size]`**  \n",
        "--- Diagram here to show the output of rnn cell from all the timesteps\n",
        "\n",
        "What `tf.nn.dynamic_rnn` will do is to simply set the hidden state of skipped tokens (the <pad\\> value it didn't calculate) to vectors of zeros of the size **`[hidden_state_size]`**\n",
        "\n",
        "## In action \n",
        "To better visualize the matrices and their respective shape, let's code up a simple example:\n",
        "\n"
      ]
    },
    {
      "metadata": {
        "id": "f1nEIuDxX_Rs",
        "colab_type": "code",
        "colab": {
          "base_uri": "https://localhost:8080/",
          "height": 374
        },
        "outputId": "bdd3b5ff-8f2b-4850-f706-2ecbe9167959"
      },
      "cell_type": "code",
      "source": [
        "import tensorflow as tf\n",
        "import numpy as np\n",
        "\n",
        "# The dimension is in the form of\n",
        "# (batch_size, time_steps, n_features)\n",
        "# Where each batch element can be thought of as a sentence. \n",
        "# NOTE: Do not use random.randint32 as we are passing it through a non-linear function\n",
        "#       Values higher than 1 will saturate the non-linear function easily. \n",
        "#       Recall how in normal application, the x input passed in will be normalized\n",
        "#       word embeddings.\n",
        "x = np.random.random(size=(2,10,5))\n",
        "print(x)"
      ],
      "execution_count": 1,
      "outputs": [
        {
          "output_type": "stream",
          "text": [
            "[[[0.62302861 0.01914905 0.17387512 0.22401975 0.80820405]\n",
            "  [0.33198728 0.50174796 0.35421527 0.94233084 0.78846405]\n",
            "  [0.82611666 0.30795712 0.98204377 0.71652138 0.52117634]\n",
            "  [0.31457755 0.86598024 0.5040601  0.35834248 0.28594774]\n",
            "  [0.41854428 0.12170197 0.99579171 0.65329134 0.61220468]\n",
            "  [0.03912358 0.06279758 0.00299586 0.4851044  0.03213688]\n",
            "  [0.68648015 0.16620824 0.92352208 0.42803549 0.06547576]\n",
            "  [0.53588118 0.47669298 0.04755545 0.01279447 0.88792542]\n",
            "  [0.40170098 0.48165938 0.75279648 0.31071382 0.10778935]\n",
            "  [0.33770841 0.97168153 0.91277792 0.09921978 0.31437892]]\n",
            "\n",
            " [[0.63208416 0.69188769 0.38419977 0.29929609 0.35853236]\n",
            "  [0.50405219 0.58771954 0.88271526 0.91690596 0.49007223]\n",
            "  [0.7579435  0.7635813  0.25311605 0.8879893  0.5781744 ]\n",
            "  [0.74723753 0.03005038 0.4157741  0.9749357  0.76512149]\n",
            "  [0.83385818 0.27898849 0.86003361 0.7989492  0.09784158]\n",
            "  [0.01292652 0.6188105  0.68942374 0.59556264 0.57880948]\n",
            "  [0.37413241 0.35856435 0.72397363 0.64681828 0.78354511]\n",
            "  [0.49312741 0.27576672 0.21304194 0.50086376 0.46582526]\n",
            "  [0.18289339 0.79471481 0.05845358 0.29051561 0.5380547 ]\n",
            "  [0.79893396 0.89251122 0.5873558  0.26831584 0.23983071]]]\n"
          ],
          "name": "stdout"
        }
      ]
    },
    {
      "metadata": {
        "id": "f8d_yukGYRI9",
        "colab_type": "text"
      },
      "cell_type": "markdown",
      "source": [
        "From the console output, we can see that a toy example has been generated for the purpose of this demonstration. The tensor shape is of the following:  \n",
        "(batch_size, time_steps, n_features)\n",
        "\n",
        "Where **batch_size** can be thought of as the number of sentences we want to process in each sentence.\n",
        "**time_steps** can be thought of as the number of words in each sentence and\n",
        "**n_features** can be thought of as the embedding dimension of each words."
      ]
    },
    {
      "metadata": {
        "id": "3W9A_AQLYOXz",
        "colab_type": "code",
        "colab": {
          "base_uri": "https://localhost:8080/",
          "height": 374
        },
        "outputId": "0aa19eea-ddb4-49d6-93d3-138ab3ffe70a"
      },
      "cell_type": "code",
      "source": [
        "# Let's assume here \"-1\" represents <pad> tokens\n",
        "x[1, 6:] = -1\n",
        "print(x)"
      ],
      "execution_count": 2,
      "outputs": [
        {
          "output_type": "stream",
          "text": [
            "[[[ 0.62302861  0.01914905  0.17387512  0.22401975  0.80820405]\n",
            "  [ 0.33198728  0.50174796  0.35421527  0.94233084  0.78846405]\n",
            "  [ 0.82611666  0.30795712  0.98204377  0.71652138  0.52117634]\n",
            "  [ 0.31457755  0.86598024  0.5040601   0.35834248  0.28594774]\n",
            "  [ 0.41854428  0.12170197  0.99579171  0.65329134  0.61220468]\n",
            "  [ 0.03912358  0.06279758  0.00299586  0.4851044   0.03213688]\n",
            "  [ 0.68648015  0.16620824  0.92352208  0.42803549  0.06547576]\n",
            "  [ 0.53588118  0.47669298  0.04755545  0.01279447  0.88792542]\n",
            "  [ 0.40170098  0.48165938  0.75279648  0.31071382  0.10778935]\n",
            "  [ 0.33770841  0.97168153  0.91277792  0.09921978  0.31437892]]\n",
            "\n",
            " [[ 0.63208416  0.69188769  0.38419977  0.29929609  0.35853236]\n",
            "  [ 0.50405219  0.58771954  0.88271526  0.91690596  0.49007223]\n",
            "  [ 0.7579435   0.7635813   0.25311605  0.8879893   0.5781744 ]\n",
            "  [ 0.74723753  0.03005038  0.4157741   0.9749357   0.76512149]\n",
            "  [ 0.83385818  0.27898849  0.86003361  0.7989492   0.09784158]\n",
            "  [ 0.01292652  0.6188105   0.68942374  0.59556264  0.57880948]\n",
            "  [-1.         -1.         -1.         -1.         -1.        ]\n",
            "  [-1.         -1.         -1.         -1.         -1.        ]\n",
            "  [-1.         -1.         -1.         -1.         -1.        ]\n",
            "  [-1.         -1.         -1.         -1.         -1.        ]]]\n"
          ],
          "name": "stdout"
        }
      ]
    },
    {
      "metadata": {
        "id": "tTzC7Xu-Y77X",
        "colab_type": "text"
      },
      "cell_type": "markdown",
      "source": [
        "Comparing the console output to previous console output, it is evident that plenty of \"-1\" tokens have been added to the second sentence to represents <pad\\> value. Meaning that we are trying to illustrate the scenario where sentence two are shorter than sentence one, and are being padded with the token \"-1\"."
      ]
    },
    {
      "metadata": {
        "id": "0MWA7knvZObR",
        "colab_type": "code",
        "colab": {
          "base_uri": "https://localhost:8080/",
          "height": 493
        },
        "outputId": "b0b28c98-0a43-47ba-8593-55d5ce736b59"
      },
      "cell_type": "code",
      "source": [
        "# Define the sequence length for each of our sentences above.\n",
        "seq_length = [10, 6]\n",
        "# Let's build our graph\n",
        "#                      [batch_size, time_steps, n_features]\n",
        "x_ph = tf.placeholder(tf.float32, [2, 10, 5])\n",
        "seq_length_ph = tf.placeholder(tf.int32, [2,])\n",
        "\n",
        "# We then proceed to define our RNN cell by supplying hidden_state_size of 3\n",
        "basic_cell = tf.nn.rnn_cell.BasicRNNCell(num_units=3) \n",
        "\n",
        "# Building the dynamic rnn graph\n",
        "outputs, states = tf.nn.dynamic_rnn(cell=basic_cell,\n",
        "                                   inputs=x_ph,\n",
        "                                   sequence_length=seq_length_ph,\n",
        "                                   dtype=tf.float32)\n",
        "\n",
        "with tf.Session() as sess:\n",
        "  sess.run(tf.global_variables_initializer())\n",
        "  outputs_val, states_val = sess.run([outputs, states], feed_dict={x_ph: x, seq_length_ph: seq_length})\n",
        "  print(outputs_val)\n",
        "  print()\n",
        "  print()\n",
        "  print(states_val)"
      ],
      "execution_count": 3,
      "outputs": [
        {
          "output_type": "stream",
          "text": [
            "WARNING:tensorflow:From <ipython-input-3-609a96374344>:8: BasicRNNCell.__init__ (from tensorflow.python.ops.rnn_cell_impl) is deprecated and will be removed in a future version.\n",
            "Instructions for updating:\n",
            "This class is equivalent as tf.keras.layers.SimpleRNNCell, and will be replaced by that in Tensorflow 2.0.\n",
            "[[[-0.6043415  -0.766119    0.42360705]\n",
            "  [-0.8556056  -0.5948331   0.5420409 ]\n",
            "  [-0.7402248  -0.47115093  0.25555268]\n",
            "  [-0.72596866 -0.18736169  0.46713755]\n",
            "  [-0.5615917  -0.39451015 -0.05021511]\n",
            "  [-0.3225749  -0.23166811 -0.06871123]\n",
            "  [-0.67363656 -0.15471931 -0.08890712]\n",
            "  [-0.61396563 -0.8143476   0.6512444 ]\n",
            "  [-0.53082305  0.288834    0.45555303]\n",
            "  [-0.5637323  -0.09094252  0.1782998 ]]\n",
            "\n",
            " [[-0.8005068  -0.5082021   0.39209768]\n",
            "  [-0.83872294 -0.41006085  0.18253234]\n",
            "  [-0.87609506 -0.81013316  0.3801973 ]\n",
            "  [-0.7708805  -0.7730645   0.35276362]\n",
            "  [-0.7557189  -0.25022933  0.09978031]\n",
            "  [-0.74189085 -0.30529392  0.20443617]\n",
            "  [ 0.          0.          0.        ]\n",
            "  [ 0.          0.          0.        ]\n",
            "  [ 0.          0.          0.        ]\n",
            "  [ 0.          0.          0.        ]]]\n",
            "\n",
            "\n",
            "[[-0.5637323  -0.09094252  0.1782998 ]\n",
            " [-0.74189085 -0.30529392  0.20443617]]\n"
          ],
          "name": "stdout"
        }
      ]
    },
    {
      "metadata": {
        "id": "mZbqjmUoX1_1",
        "colab_type": "text"
      },
      "cell_type": "markdown",
      "source": [
        "\n",
        "### Understanding the outputs of `tf.nn.dynamic_rnn`\n",
        "\n",
        "From the documentation, it stated that `tf.nn.dynamic_rnn` returns the following output:\n",
        "\n",
        "> A pair (outputs, state) where:\n",
        "> \n",
        "> **`outputs`**: The RNN output Tensor of shape **`[batch_size, max_time, cell.output_size]`** or **`[max_time, batch_size, cell.output_size]`** depending on your `time_major` parameter\n",
        ">  \n",
        ">  **`state`**: The final state, of shape **`[batch_size, cell.state_size]`**.\n",
        "\n",
        "\n",
        "From the console output, we can observe the value of both `outputs` and `states` of `tf.nn.dynamic_rnn`. First thing to note here is that in  `outputs,` each row of vector represents the hidden state value produced by the RNN cell at each time steps. As specified in our code, the hidden state is of dimension of 3, which is why each word in our sentence actually produce a vector of 3 elements. In another word, for sentence 1, the computed hidden states at each time steps $t$ is as following (note: values extracted directly from the output):\n",
        "\n",
        "$h_{t=1} = [-0.6043415,  -0.766119,    0.42360705]$  \n",
        "$h_{t=2} =  [-0.8556056,  -0.5948331,   0.5420409 ]$  \n",
        "$h_{t=3} = [-0.7402248,  -0.47115093,  0.25555268]$  \n",
        "$h_{t=4} = [-0.72596866, -0.18736169,  0.46713755]$  \n",
        "$h_{t=5} = [-0.5615917,  -0.39451015, -0.05021511]$  \n",
        "$h_{t=6} = [-0.3225749,  -0.23166811, -0.06871123]$  \n",
        "$h_{t=7} = [-0.67363656, -0.15471931, -0.08890712]$  \n",
        "$h_{t=8} = [-0.61396563, -0.8143476,   0.6512444 ]$  \n",
        "$h_{t=9} = [-0.53082305,  0.288834,    0.45555303]$  \n",
        "$h_{t=10} = [-0.5637323,  -0.09094252,  0.1782998 ]$\n",
        "\n",
        "\n",
        "Moving on to our second sentence, where we explicitly mention the sequence_length is 6, we can see that the words in sentence 2 are vector of zeros beyond the 6th item. That's because the function `tf.nn.dynamic_rnn` will only run the recurrent cell on the first 6 words of sentence 2, and for the rest of the sentence (7th element and beyond), it knows that they are just <pad\\> value and no computation needs to be done, (with the information we give through `seq_length` variable.) hence the the rest of the hidden state representations are being zero-padded. Concretely, the hidden states for second sentence at each time steps are:  \n",
        "\n",
        "$h_{t=1} = [-0.8005068  -0.5082021   0.39209768]$  \n",
        "$h_{t=2} = [-0.83872294 -0.41006085  0.18253234]$  \n",
        "$h_{t=3} = [-0.87609506 -0.81013316  0.3801973 ]$  \n",
        "$h_{t=4} = [-0.7708805  -0.7730645   0.35276362]$  \n",
        "$h_{t=5} = [-0.7557189  -0.25022933  0.09978031]$  \n",
        "$h_{t=6} = [-0.74189085 -0.30529392  0.20443617]$  \n",
        "\n",
        "Since we explicitly tell the function the second sentence is only up to $t=6$, it respond by only computing the hidden state representation up to $t=6$ and zero pad the rest.\n",
        "\n",
        "Finally, looking at the printed value of `state`, we can see that it consists of the **last** hidden state representation of both sentence. In vanilla seq2seq, this is all we care about the output of encoder, which will be used as the initial hidden state of decoder to generate output. \n",
        "\n"
      ]
    }
  ]
}